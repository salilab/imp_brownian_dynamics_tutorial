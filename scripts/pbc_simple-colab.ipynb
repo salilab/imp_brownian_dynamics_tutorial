{
  "cells": [
    {
      "cell_type": "markdown",
      "metadata": {},
      "source": [
        "Brownian Dynamics in IMP<a id=\"mainpage\"></a>\n",
        "========================\n",
        "\n",
        "**Table of contents**\n",
        "\n",
        " - [Setup](#setup)\n",
        " - [Representing parts](#repparts)\n",
        " - [Representing interactions](#repinteract)\n",
        " - [Representing dynamics](#repdynamics)\n",
        " - [Running the script](#running)\n",
        " - [Visualization](#visualization)\n",
        " - [Next steps](#nextsteps)\n"
      ]
    },
    {
      "cell_type": "markdown",
      "metadata": {},
      "source": [
        "In this tutorial, we show how to setup and run a Brownian Dynamics simulation\n",
        "in IMP."
      ]
    },
    {
      "cell_type": "markdown",
      "metadata": {},
      "source": [
        "# Setup<a id=\"setup\"></a>\n"
      ]
    },
    {
      "cell_type": "markdown",
      "metadata": {},
      "source": [
        "First, this cell will install IMP in the Google Colaboratory environment:"
      ]
    },
    {
      "cell_type": "code",
      "execution_count": null,
      "metadata": {},
      "outputs": [],
      "source": [
        "!add-apt-repository -y ppa:salilab/ppa\n",
        "!apt install imp\n",
        "import sys, os, glob\n",
        "sys.path.append(os.path.dirname(glob.glob('/usr/lib/python*/dist-packages/IMP')[0]))"
      ]
    },
    {
      "cell_type": "markdown",
      "metadata": {},
      "source": [
        "Next, download the files for this tutorial from GitHub:"
      ]
    },
    {
      "cell_type": "code",
      "execution_count": null,
      "metadata": {},
      "outputs": [],
      "source": [
        "!git clone https://github.com/salilab/imp_brownian_dynamics_tutorial.git\n",
        "%cd imp_brownian_dynamics_tutorial/scripts/"
      ]
    },
    {
      "cell_type": "markdown",
      "metadata": {},
      "source": [
        "We need to import IMP modules that we plan to use in the script:"
      ]
    },
    {
      "cell_type": "code",
      "execution_count": null,
      "metadata": {},
      "outputs": [],
      "source": [
        "from __future__ import print_function, division\n",
        "import IMP.atom\n",
        "import IMP.algebra\n",
        "import IMP.rmf\n",
        "import IMP.core\n",
        "import RMF\n",
        "import IMP.container\n",
        "import IMP.display\n",
        "import GranuleFactory"
      ]
    },
    {
      "cell_type": "markdown",
      "metadata": {},
      "source": [
        "Next, we can set parameters for the simulation:"
      ]
    },
    {
      "cell_type": "code",
      "execution_count": null,
      "metadata": {},
      "outputs": [],
      "source": [
        "RMF_FILENAME = \"pbc_simple.rmf\"\n",
        "# I. Parts parameters:\n",
        "L = 50000 # Length of our bounding box, A\n",
        "R = 20000 # PBC radius, A\n",
        "R_NUCLEUS = 10000 # NE radius, A\n",
        "N_GRANULES = 50 # Number of granules\n",
        "R_GRANULES = 1500 # Radius of granules, A\n",
        "N_GRANULE_PATCHES = 6\n",
        "\n",
        "# II. Interaction parameters:\n",
        "K_BB = 0.1  # Strength of the harmonic boundary box in kcal/mol/A^2\n",
        "K_EXCLUDED=0.1 # Strength of lower-harmonic excluded volume score in kcal/mol/A^2\n",
        "\n",
        "# III. Time parameters:\n",
        "BD_STEP_SIZE_SEC= 10E-8\n",
        "SIM_TIME_SEC= 0.050\n",
        "bd_step_size_fs= BD_STEP_SIZE_SEC * 1E+15\n",
        "sim_time_ns= SIM_TIME_SEC * 1E+9\n",
        "RMF_DUMP_INTERVAL_NS= sim_time_ns / 1000.0"
      ]
    },
    {
      "cell_type": "markdown",
      "metadata": {},
      "source": [
        "# Representing parts<a id=\"repparts\"></a>\n",
        "\n",
        "To represent parts of the system, we use a number of Python classes provided by IMP:\n",
        "\n",
        " - [IMP.Model](https://integrativemodeling.org/2.23.0/doc/ref/classIMP_1_1Model.html)\n",
        "   A container for all of the system\u2019s parts\n",
        "\n",
        " - [IMP.Particle](https://integrativemodeling.org/2.23.0/doc/ref/classIMP_1_1Particle.html)\n",
        "   A particle is the elementary data unit describing a system part in IMP\n",
        "\n",
        " - [IMP.Decorator](https://integrativemodeling.org/2.23.0/doc/ref/classIMP_1_1Decorator.html)\n",
        "   Dynamic descriptors of the properties of IMP particles\n",
        "\n",
        "   - [IMP.core.XYZR](https://integrativemodeling.org/2.23.0/doc/ref/classIMP_1_1core_1_1XYZR.html)\n",
        "   - [IMP.atom.Hierarchy](https://integrativemodeling.org/2.23.0/doc/ref/classIMP_1_1atom_1_1Hierarchy.html)\n",
        "   - [IMP.atom.Diffusion](https://integrativemodeling.org/2.23.0/doc/ref/classIMP_1_1atom_1_1Diffusion.html)\n",
        "   \n",
        " - [IMP.container](https://integrativemodeling.org/2.23.0/doc/ref/namespaceIMP_1_1container.html)\n",
        "   Static or dynamic collections of particles, particle pairs, etc."
      ]
    },
    {
      "cell_type": "markdown",
      "metadata": {},
      "source": [
        "To see these classes used in a simulation, look at the file `pbc_simple.py` in the `scripts` directory. First, we create an IMP [Model](https://integrativemodeling.org/2.23.0/doc/ref/classIMP_1_1Model.html), and set up the root of a [hierarchy of particles](https://integrativemodeling.org/2.23.0/doc/ref/classIMP_1_1atom_1_1Hierarchy.html):"
      ]
    },
    {
      "cell_type": "code",
      "execution_count": null,
      "metadata": {},
      "outputs": [],
      "source": [
        "# Model:\n",
        "m = IMP.Model()\n",
        "# Root of parts hierarchy:\n",
        "p_root= IMP.Particle(m, \"root\")\n",
        "h_root = IMP.atom.Hierarchy.setup_particle(p_root)"
      ]
    },
    {
      "cell_type": "markdown",
      "metadata": {},
      "source": [
        "Next, we can set up a coarse-grained nucleus by calling the `create_nucleus` function. The nucleus particle is given XYZ coordinates and a radius using the [XYZR decorator](https://integrativemodeling.org/2.23.0/doc/ref/classIMP_1_1core_1_1XYZR.html). We then [add it](https://integrativemodeling.org/2.23.0/doc/ref/classIMP_1_1atom_1_1Hierarchy.html#a6a8c2cba388bf79adef66c28a7c78a57) to the existing hierarchy:"
      ]
    },
    {
      "cell_type": "code",
      "execution_count": null,
      "metadata": {},
      "outputs": [],
      "source": [
        "def create_nucleus(m, R):\n",
        "    '''\n",
        "    Generate a coarse-grained spherical nuclear envelope\n",
        "    of radius R in model m\n",
        "    '''\n",
        "    p = IMP.Particle(m, \"nucleus\")\n",
        "    xyzr = IMP.core.XYZR.setup_particle(p)\n",
        "    xyzr.set_coordinates_are_optimized(True)\n",
        "    xyzr.set_coordinates([0,0,0])\n",
        "    xyzr.set_radius(R)\n",
        "    IMP.atom.Mass.setup_particle(p, 1.0) # fake mass\n",
        "    IMP.display.Colored.setup_particle(p,\n",
        "                                       IMP.display.get_display_color(2))\n",
        "    IMP.atom.Hierarchy.setup_particle(p)\n",
        "    return p\n",
        "\n",
        "# Nucleus:\n",
        "p_nucleus = create_nucleus(m, R_NUCLEUS)\n",
        "h_nucleus = IMP.atom.Hierarchy(p_nucleus)\n",
        "h_root.add_child(h_nucleus)"
      ]
    },
    {
      "cell_type": "markdown",
      "metadata": {},
      "source": [
        "Next, we create a number of insulin granules at random locations in the\n",
        "cytoplasm. This is done using a simple piece of code, that creates similar\n",
        "XYZR particles, in `GranuleFactory.py`:"
      ]
    },
    {
      "cell_type": "code",
      "execution_count": null,
      "metadata": {},
      "outputs": [],
      "source": [
        "# Granules hierarchy root:\n",
        "p_granules_root= IMP.Particle(m, \"Granules\")\n",
        "IMP.atom.Mass.setup_particle(p_granules_root, 1.0) # fake mass\n",
        "h_granules_root= IMP.atom.Hierarchy.setup_particle(p_granules_root)\n",
        "h_root.add_child(h_granules_root)\n",
        "\n",
        "# PBC cytoplasm bounding sphere:\n",
        "pbc_sphere= IMP.algebra.Sphere3D([0,0,0], R)\n",
        "# Actual granules:\n",
        "nucleus_sphere= IMP.core.XYZR(p_nucleus).get_sphere()\n",
        "gf=GranuleFactory.GranuleFactory(\n",
        "    model=m, default_R=R_GRANULES,\n",
        "    cell_sphere=pbc_sphere,\n",
        "    nucleus_sphere=nucleus_sphere)\n",
        "for i in range(N_GRANULES):\n",
        "    granule= gf.create_simple_granule(\"Granule_{}\".format(i))\n",
        "    h_granule= IMP.atom.Hierarchy(granule)\n",
        "    h_granules_root.add_child(h_granule)"
      ]
    },
    {
      "cell_type": "markdown",
      "metadata": {},
      "source": [
        "# Representing interactions<a id=\"repinteract\"></a>\n",
        "\n",
        "Next, we need to tell IMP the nature of the interactions in the system. These are handled by several IMP classes:\n",
        "\n",
        " - [Scores](https://integrativemodeling.org/2.23.0/doc/ref/classIMP_1_1SingletonScore.html) evaluate some property of the system, for example [how far a particle is outside of a sphere](https://integrativemodeling.org/2.23.0/doc/ref/classIMP_1_1core_1_1GenericBoundingSphere3DSingletonScore.html).\n",
        "\n",
        " - [Restraints](https://integrativemodeling.org/2.23.0/doc/ref/classIMP_1_1Restraint.html) apply Scores to a subset of the system.\n",
        "\n",
        " - [Containers](https://integrativemodeling.org/2.23.0/doc/ref/namespaceIMP_1_1container.html) describe the subsets that the Restraints\n",
        "   use."
      ]
    },
    {
      "cell_type": "code",
      "execution_count": null,
      "metadata": {},
      "outputs": [],
      "source": [
        "# ----- II. System interactions: -----\n",
        "\n",
        "# Outer bounding box for simulation:\n",
        "bb = IMP.algebra.BoundingBox3D(IMP.algebra.Vector3D(-L/2, -L/2, -L/2),\n",
        "                               IMP.algebra.Vector3D(L/2, L/2, L/2))\n",
        "\n",
        "# Add enclosing spheres for pbc and outer simulation box\n",
        "bb_harmonic= IMP.core.HarmonicUpperBound(0, K_BB)\n",
        "pbc_bsss = IMP.core.BoundingSphere3DSingletonScore(bb_harmonic,\n",
        "                                                   pbc_sphere)\n",
        "outer_bbss = IMP.core.BoundingBox3DSingletonScore(bb_harmonic,\n",
        "                                                  bb)\n",
        "# Restraints - match score with particles:\n",
        "rs = []\n",
        "rs.append(IMP.container.SingletonsRestraint(pbc_bsss,\n",
        "                                            h_granules_root.get_children()))\n",
        "rs.append(IMP.container.SingletonsRestraint(outer_bbss,\n",
        "                                            h_granules_root.get_children()))\n",
        "# Add excluded volume restraints among all (close pairs of) particles:\n",
        "ev = IMP.core.ExcludedVolumeRestraint(IMP.atom.get_leaves(h_root),\n",
        "                                      K_EXCLUDED,\n",
        "                                      10, # slack affects speed only\n",
        "                                          # (slack of close pairs finder)\n",
        "                                      \"EV\")\n",
        "rs.append(ev)\n",
        "# Scoring Function from restraints\n",
        "sf = IMP.core.RestraintsScoringFunction(rs, \"SF\")"
      ]
    },
    {
      "cell_type": "markdown",
      "metadata": {},
      "source": [
        "# Representing dynamics<a id=\"repdynamics\"></a>\n",
        "\n",
        "Finally we can tell IMP to run Brownian Dynamics. This uses the [IMP.atom.BrownianDynamics](https://integrativemodeling.org/2.23.0/doc/ref/classIMP_1_1atom_1_1BrownianDynamics.html) class. First, we set properties of the simulation, such as the temperature and number of time steps:"
      ]
    },
    {
      "cell_type": "code",
      "execution_count": null,
      "metadata": {},
      "outputs": [],
      "source": [
        "# -------- III. System dynamics: --------\n",
        "\n",
        "bd = IMP.atom.BrownianDynamics(m)\n",
        "bd.set_log_level(IMP.SILENT)\n",
        "bd.set_scoring_function(sf)\n",
        "bd.set_maximum_time_step(bd_step_size_fs) # in femtoseconds\n",
        "bd.set_temperature(300)"
      ]
    },
    {
      "cell_type": "markdown",
      "metadata": {},
      "source": [
        "Next, we request output of the trajectory in RMF format (using the `add_optimizer_state` method):"
      ]
    },
    {
      "cell_type": "code",
      "execution_count": null,
      "metadata": {},
      "outputs": [],
      "source": [
        "# -------- Add RMF visualization --------\n",
        "def convert_time_ns_to_frames(time_ns, step_size_fs):\n",
        "    '''\n",
        "    Given time in nanoseconds time_ns and step size in femtosecond\n",
        "    step_size_fs, return an integer number of frames greater or equal\n",
        "    to 1, such that time_ns*step_size_fs is as close as possible to\n",
        "    time_ns.\n",
        "    '''\n",
        "    FS_PER_NS= 1E6\n",
        "    time_fs= time_ns * FS_PER_NS\n",
        "    n_frames_float= (time_fs+0.0) / step_size_fs\n",
        "    n_frames= int(round(n_frames_float))\n",
        "    return max(n_frames, 1)\n",
        "sim_time_frames= convert_time_ns_to_frames(sim_time_ns, bd_step_size_fs)\n",
        "rmf_dump_interval_frames= convert_time_ns_to_frames(RMF_DUMP_INTERVAL_NS, bd_step_size_fs)\n",
        "\n",
        "print(\"Simulation time {:.1e} ns / {} frames; \"\n",
        "      \"RMF dump interval {:.1e} ns / {} frames\".format(sim_time_ns,\n",
        "                                                      sim_time_frames,\n",
        "                                                       RMF_DUMP_INTERVAL_NS,\n",
        "                                                      rmf_dump_interval_frames))\n",
        "\n",
        "rmf = RMF.create_rmf_file(RMF_FILENAME)\n",
        "rmf.set_description(\"Brownian dynamics trajectory with {}fs timestep.\\n\"\\\n",
        "                    .format(bd_step_size_fs))\n",
        "IMP.rmf.add_hierarchy(rmf, h_root)\n",
        "IMP.rmf.add_restraints(rmf, rs)\n",
        "IMP.rmf.add_geometry(rmf, IMP.display.BoundingBoxGeometry(bb))\n",
        "IMP.rmf.add_geometry(rmf, IMP.display.SphereGeometry(pbc_sphere))\n",
        "# Pair RMF with model using an OptimizerState (\"listener\")\n",
        "sos = IMP.rmf.SaveOptimizerState(m, rmf)\n",
        "sos.set_log_level(IMP.SILENT)\n",
        "sos.set_simulator(bd)\n",
        "sos.set_period(rmf_dump_interval_frames)\n",
        "bd.add_optimizer_state(sos)\n",
        "# Dump initial frame to RMF\n",
        "sos.update_always(\"initial conformation\")"
      ]
    },
    {
      "cell_type": "markdown",
      "metadata": {},
      "source": [
        "Finally, we run the simulation by calling [optimize](https://integrativemodeling.org/2.23.0/doc/ref/classIMP_1_1Optimizer.html#ab4582f19387b3ac38dbeb854e613a2c0) (this takes a minute or two to run):"
      ]
    },
    {
      "cell_type": "code",
      "execution_count": null,
      "metadata": {},
      "outputs": [],
      "source": [
        "# -------- Run simulation ---------\n",
        "print(\"Running simulation\")\n",
        "#m.update()\n",
        "print(\"Score before: {:f}\".format(sf.evaluate(True)))\n",
        "bd.optimize(sim_time_frames)\n",
        "print(\"Run finished successfully\")\n",
        "print(\"Score after: {:f}\".format(sf.evaluate(True)))"
      ]
    },
    {
      "cell_type": "markdown",
      "metadata": {},
      "source": [
        "# Visualization<a id=\"visualization\"></a>\n",
        "\n",
        "The final RMF trajectory `pbc_simple.rmf` can be viewed in UCSF Chimera, or in UCSF ChimeraX with the RMF plugin (installed from the Tools menu under 'More Tools')."
      ]
    },
    {
      "cell_type": "markdown",
      "metadata": {},
      "source": [
        "# Next steps<a id=\"nextsteps\"></a>\n",
        "\n",
        "This demonstration uses a very simple representation of the insulin granules. See also `pbc_patches.py` and `pbc_interacting_patches.py` in the [scripts directory of the GitHub repository](https://github.com/salilab/imp_brownian_dynamics_tutorial/tree/main/scripts) for similar scripts that use a more realistic representation."
      ]
    }
  ],
  "metadata": {
    "kernelspec": {
      "display_name": "Python 3",
      "language": "python",
      "name": "python3"
    },
    "language_info": {
      "codemirror_mode": {
        "name": "ipython",
        "version": 3
      },
      "file_extension": ".py",
      "mimetype": "text/x-python",
      "name": "python",
      "nbconvert_exporter": "python",
      "pygments_lexer": "ipython3",
      "version": "3.9.1"
    }
  },
  "nbformat": 4,
  "nbformat_minor": 4
}