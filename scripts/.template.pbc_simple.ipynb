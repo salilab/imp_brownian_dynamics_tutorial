{
 "cells": [
  {
   "cell_type": "markdown",
   "metadata": {},
   "source": [
    "Brownian Dynamics in IMP {#mainpage}\n",
    "========================\n",
    "\n",
    "[TOC]"
   ]
  },
  {
   "cell_type": "markdown",
   "metadata": {},
   "source": [
    "In this tutorial, we show how to setup and run a Brownian Dynamics simulation\n",
    "in IMP."
   ]
  },
  {
   "cell_type": "markdown",
   "metadata": {},
   "source": [
    "%%nbexclude\n",
    "This tutorial can be followed in several ways:\n",
    "\n",
    " - Download the files using the \"Clone or download\" link at the [tutorial's GitHub page](https://github.com/salilab/imp_brownian_dynamics_tutorial) and use them in conjunction with this text.\n",
    " - [Download the files from GitHub](https://github.com/salilab/imp_brownian_dynamics_tutorial) and, using [Jupyter Notebook](https://jupyter.org/), open the notebook `scripts/pbc_simple.ipynb`.\n",
    " - [Load the tutorial directly in your browser](https://mybinder.org/v2/gh/salilab/imp_brownian_dynamics_tutorial/main?filepath=scripts%2Fpbc_simple.ipynb), courtesy of [mybinder.org](https://mybinder.org/). (This needs no software installed on your machine, but may take a while to load.)"
   ]
  },
  {
   "cell_type": "markdown",
   "metadata": {},
   "source": [
    "# Setup {#setup}\n",
    "\n",
    "First, we need to import IMP modules that we plan to use in the script:"
   ]
  },
  {
   "cell_type": "code",
   "execution_count": null,
   "metadata": {},
   "outputs": [],
   "source": [
    "from __future__ import print_function, division\n",
    "import IMP.atom\n",
    "import IMP.algebra\n",
    "import IMP.rmf\n",
    "import IMP.core\n",
    "import RMF\n",
    "import IMP.container\n",
    "import IMP.display\n",
    "import GranuleFactory"
   ]
  },
  {
   "cell_type": "markdown",
   "metadata": {},
   "source": [
    "Next, we can set parameters for the simulation:"
   ]
  },
  {
   "cell_type": "code",
   "execution_count": null,
   "metadata": {},
   "outputs": [],
   "source": [
    "RMF_FILENAME = \"pbc_simple.rmf\"\n",
    "# I. Parts parameters:\n",
    "L = 50000 # Length of our bounding box, A\n",
    "R = 20000 # PBC radius, A\n",
    "R_NUCLEUS = 10000 # NE radius, A\n",
    "N_GRANULES = 50 # Number of granules\n",
    "R_GRANULES = 1500 # Radius of granules, A\n",
    "N_GRANULE_PATCHES = 6\n",
    "\n",
    "# II. Interaction parameters:\n",
    "K_BB = 0.1  # Strength of the harmonic boundary box in kcal/mol/A^2\n",
    "K_EXCLUDED=0.1 # Strength of lower-harmonic excluded volume score in kcal/mol/A^2\n",
    "\n",
    "# III. Time parameters:\n",
    "BD_STEP_SIZE_SEC= 10E-8\n",
    "SIM_TIME_SEC= 0.050\n",
    "bd_step_size_fs= BD_STEP_SIZE_SEC * 1E+15\n",
    "sim_time_ns= SIM_TIME_SEC * 1E+9\n",
    "RMF_DUMP_INTERVAL_NS= sim_time_ns / 1000.0"
   ]
  },
  {
   "cell_type": "markdown",
   "metadata": {},
   "source": [
    "# Representing parts {#repparts}\n",
    "\n",
    "To represent parts of the system, we use a number of Python classes provided by IMP:\n",
    "\n",
    " - ``IMP.Model``\n",
    "   A container for all of the system’s parts\n",
    "\n",
    " - ``IMP.Particle``\n",
    "   A particle is the elementary data unit describing a system part in IMP\n",
    "\n",
    " - ``IMP.Decorator``\n",
    "   Dynamic descriptors of the properties of IMP particles\n",
    "\n",
    "   - ``IMP.core.XYZR``\n",
    "   - ``IMP.atom.Hierarchy``\n",
    "   - ``IMP.atom.Diffusion``\n",
    "   \n",
    " - ``IMP.container``\n",
    "   Static or dynamic collections of particles, particle pairs, etc."
   ]
  },
  {
   "cell_type": "markdown",
   "metadata": {},
   "source": [
    "To see these classes used in a simulation, look at the file `pbc_simple.py` in the `scripts` directory. First, we create an IMP ``~IMP.Model``, and set up the root of a [hierarchy of particles](@ref IMP.atom.Hierarchy):"
   ]
  },
  {
   "cell_type": "code",
   "execution_count": null,
   "metadata": {},
   "outputs": [],
   "source": [
    "# Model:\n",
    "m = IMP.Model()\n",
    "# Root of parts hierarchy:\n",
    "p_root= IMP.Particle(m, \"root\")\n",
    "h_root = IMP.atom.Hierarchy.setup_particle(p_root)"
   ]
  },
  {
   "cell_type": "markdown",
   "metadata": {},
   "source": [
    "Next, we can set up a coarse-grained nucleus by calling the `create_nucleus` function. The nucleus particle is given XYZ coordinates and a radius using the [XYZR decorator](@ref IMP::core::XYZR). We then [add it](@ref IMP::atom::Hierarchy::add_child) to the existing hierarchy:"
   ]
  },
  {
   "cell_type": "code",
   "execution_count": null,
   "metadata": {},
   "outputs": [],
   "source": [
    "def create_nucleus(m, R):\n",
    "    '''\n",
    "    Generate a coarse-grained spherical nuclear envelope\n",
    "    of radius R in model m\n",
    "    '''\n",
    "    p = IMP.Particle(m, \"nucleus\")\n",
    "    xyzr = IMP.core.XYZR.setup_particle(p)\n",
    "    xyzr.set_coordinates_are_optimized(True)\n",
    "    xyzr.set_coordinates([0,0,0])\n",
    "    xyzr.set_radius(R)\n",
    "    IMP.atom.Mass.setup_particle(p, 1.0) # fake mass\n",
    "    IMP.display.Colored.setup_particle(p,\n",
    "                                       IMP.display.get_display_color(2))\n",
    "    IMP.atom.Hierarchy.setup_particle(p)\n",
    "    return p\n",
    "\n",
    "# Nucleus:\n",
    "p_nucleus = create_nucleus(m, R_NUCLEUS)\n",
    "h_nucleus = IMP.atom.Hierarchy(p_nucleus)\n",
    "h_root.add_child(h_nucleus)"
   ]
  },
  {
   "cell_type": "markdown",
   "metadata": {},
   "source": [
    "Next, we create a number of insulin granules at random locations in the\n",
    "cytoplasm. This is done using a simple piece of code, that creates similar\n",
    "XYZR particles, in `GranuleFactory.py`:"
   ]
  },
  {
   "cell_type": "code",
   "execution_count": null,
   "metadata": {},
   "outputs": [],
   "source": [
    "# Granules hierarchy root:\n",
    "p_granules_root= IMP.Particle(m, \"Granules\")\n",
    "IMP.atom.Mass.setup_particle(p_granules_root, 1.0) # fake mass\n",
    "h_granules_root= IMP.atom.Hierarchy.setup_particle(p_granules_root)\n",
    "h_root.add_child(h_granules_root)\n",
    "\n",
    "# PBC cytoplasm bounding sphere:\n",
    "pbc_sphere= IMP.algebra.Sphere3D([0,0,0], R)\n",
    "# Actual granules:\n",
    "nucleus_sphere= IMP.core.XYZR(p_nucleus).get_sphere()\n",
    "gf=GranuleFactory.GranuleFactory(\n",
    "    model=m, default_R=R_GRANULES,\n",
    "    cell_sphere=pbc_sphere,\n",
    "    nucleus_sphere=nucleus_sphere)\n",
    "for i in range(N_GRANULES):\n",
    "    granule= gf.create_simple_granule(\"Granule_{}\".format(i))\n",
    "    h_granule= IMP.atom.Hierarchy(granule)\n",
    "    h_granules_root.add_child(h_granule)"
   ]
  },
  {
   "cell_type": "markdown",
   "metadata": {},
   "source": [
    "# Representing interactions {#repinteract}\n",
    "\n",
    "Next, we need to tell IMP the nature of the interactions in the system. These are handled by several IMP classes:\n",
    "\n",
    " - [Scores](@ref IMP::SingletonScore) evaluate some property of the system, for example [how far a particle is outside of a sphere](@ref IMP::core::GenericBoundingSphere3DSingletonScore).\n",
    "\n",
    " - [Restraints](@ref IMP::Restraint) apply Scores to a subset of the system.\n",
    "\n",
    " - [Containers](@ref IMP::container) describe the subsets that the Restraints\n",
    "   use."
   ]
  },
  {
   "cell_type": "code",
   "execution_count": null,
   "metadata": {},
   "outputs": [],
   "source": [
    "# ----- II. System interactions: -----\n",
    "\n",
    "# Outer bounding box for simulation:\n",
    "bb = IMP.algebra.BoundingBox3D(IMP.algebra.Vector3D(-L/2, -L/2, -L/2),\n",
    "                               IMP.algebra.Vector3D(L/2, L/2, L/2))\n",
    "\n",
    "# Add enclosing spheres for pbc and outer simulation box\n",
    "bb_harmonic= IMP.core.HarmonicUpperBound(0, K_BB)\n",
    "pbc_bsss = IMP.core.BoundingSphere3DSingletonScore(bb_harmonic,\n",
    "                                                   pbc_sphere)\n",
    "outer_bbss = IMP.core.BoundingBox3DSingletonScore(bb_harmonic,\n",
    "                                                  bb)\n",
    "# Restraints - match score with particles:\n",
    "rs = []\n",
    "rs.append(IMP.container.SingletonsRestraint(pbc_bsss,\n",
    "                                            h_granules_root.get_children()))\n",
    "rs.append(IMP.container.SingletonsRestraint(outer_bbss,\n",
    "                                            h_granules_root.get_children()))\n",
    "# Add excluded volume restraints among all (close pairs of) particles:\n",
    "ev = IMP.core.ExcludedVolumeRestraint(IMP.atom.get_leaves(h_root),\n",
    "                                      K_EXCLUDED,\n",
    "                                      10, # slack affects speed only\n",
    "                                          # (slack of close pairs finder)\n",
    "                                      \"EV\")\n",
    "rs.append(ev)\n",
    "# Scoring Function from restraints\n",
    "sf = IMP.core.RestraintsScoringFunction(rs, \"SF\")"
   ]
  },
  {
   "cell_type": "markdown",
   "metadata": {},
   "source": [
    "# Representing dynamics {#repdynamics}\n",
    "\n",
    "Finally we can tell IMP to run Brownian Dynamics. This uses the ``IMP.atom.BrownianDynamics`` class. First, we set properties of the simulation, such as the temperature and number of time steps:"
   ]
  },
  {
   "cell_type": "code",
   "execution_count": null,
   "metadata": {},
   "outputs": [],
   "source": [
    "# -------- III. System dynamics: --------\n",
    "\n",
    "bd = IMP.atom.BrownianDynamics(m)\n",
    "bd.set_log_level(IMP.SILENT)\n",
    "bd.set_scoring_function(sf)\n",
    "bd.set_maximum_time_step(bd_step_size_fs) # in femtoseconds\n",
    "bd.set_temperature(300)"
   ]
  },
  {
   "cell_type": "markdown",
   "metadata": {},
   "source": [
    "Next, we request output of the trajectory in RMF format (using the `add_optimizer_state` method):"
   ]
  },
  {
   "cell_type": "code",
   "execution_count": null,
   "metadata": {},
   "outputs": [],
   "source": [
    "# -------- Add RMF visualization --------\n",
    "def convert_time_ns_to_frames(time_ns, step_size_fs):\n",
    "    '''\n",
    "    Given time in nanoseconds time_ns and step size in femtosecond\n",
    "    step_size_fs, return an integer number of frames greater or equal\n",
    "    to 1, such that time_ns*step_size_fs is as close as possible to\n",
    "    time_ns.\n",
    "    '''\n",
    "    FS_PER_NS= 1E6\n",
    "    time_fs= time_ns * FS_PER_NS\n",
    "    n_frames_float= (time_fs+0.0) / step_size_fs\n",
    "    n_frames= int(round(n_frames_float))\n",
    "    return max(n_frames, 1)\n",
    "sim_time_frames= convert_time_ns_to_frames(sim_time_ns, bd_step_size_fs)\n",
    "rmf_dump_interval_frames= convert_time_ns_to_frames(RMF_DUMP_INTERVAL_NS, bd_step_size_fs)\n",
    "\n",
    "print(\"Simulation time {:.1e} ns / {} frames; \"\n",
    "      \"RMF dump interval {:.1e} ns / {} frames\".format(sim_time_ns,\n",
    "                                                      sim_time_frames,\n",
    "                                                       RMF_DUMP_INTERVAL_NS,\n",
    "                                                      rmf_dump_interval_frames))\n",
    "\n",
    "rmf = RMF.create_rmf_file(RMF_FILENAME)\n",
    "rmf.set_description(\"Brownian dynamics trajectory with {}fs timestep.\\n\"\\\n",
    "                    .format(bd_step_size_fs))\n",
    "IMP.rmf.add_hierarchy(rmf, h_root)\n",
    "IMP.rmf.add_restraints(rmf, rs)\n",
    "IMP.rmf.add_geometry(rmf, IMP.display.BoundingBoxGeometry(bb))\n",
    "IMP.rmf.add_geometry(rmf, IMP.display.SphereGeometry(pbc_sphere))\n",
    "# Pair RMF with model using an OptimizerState (\"listener\")\n",
    "sos = IMP.rmf.SaveOptimizerState(m, rmf)\n",
    "sos.set_log_level(IMP.SILENT)\n",
    "sos.set_simulator(bd)\n",
    "sos.set_period(rmf_dump_interval_frames)\n",
    "bd.add_optimizer_state(sos)\n",
    "# Dump initial frame to RMF\n",
    "sos.update_always(\"initial conformation\")"
   ]
  },
  {
   "cell_type": "markdown",
   "metadata": {},
   "source": [
    "Finally, we run the simulation by calling ``~IMP.Optimizer.optimize`` (this takes a minute or two to run):"
   ]
  },
  {
   "cell_type": "code",
   "execution_count": null,
   "metadata": {},
   "outputs": [],
   "source": [
    "# -------- Run simulation ---------\n",
    "print(\"Running simulation\")\n",
    "#m.update()\n",
    "print(\"Score before: {:f}\".format(sf.evaluate(True)))\n",
    "bd.optimize(sim_time_frames)\n",
    "print(\"Run finished succesfully\")\n",
    "print(\"Score after: {:f}\".format(sf.evaluate(True)))"
   ]
  },
  {
   "cell_type": "markdown",
   "metadata": {},
   "source": [
    "%%nbexclude\n",
    "# Running the script {#running}\n",
    "\n",
    "The script can be run with Python by simply running:\n",
    "\n",
    "    python pbc_simple.py"
   ]
  },
  {
   "cell_type": "markdown",
   "metadata": {},
   "source": [
    "# Visualization {#visualization}\n",
    "\n",
    "The final RMF trajectory `pbc_simple.rmf` can be viewed in UCSF Chimera."
   ]
  },
  {
   "cell_type": "markdown",
   "metadata": {},
   "source": [
    "# Next steps {#nextsteps}\n",
    "\n",
    "This demonstration uses a very simple representation of the insulin granules. See also `pbc_patches.py` and `pbc_interacting_patches.py` in the [scripts directory of the GitHub repository](https://github.com/salilab/imp_brownian_dynamics_tutorial/tree/main/scripts) for similar scripts that use a more realistic representation."
   ]
  }
 ],
 "metadata": {
  "kernelspec": {
   "display_name": "Python 3",
   "language": "python",
   "name": "python3"
  },
  "language_info": {
   "codemirror_mode": {
    "name": "ipython",
    "version": 3
   },
   "file_extension": ".py",
   "mimetype": "text/x-python",
   "name": "python",
   "nbconvert_exporter": "python",
   "pygments_lexer": "ipython3",
   "version": "3.9.1"
  }
 },
 "nbformat": 4,
 "nbformat_minor": 4
}
